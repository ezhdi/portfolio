{
 "cells": [
  {
   "cell_type": "code",
   "execution_count": 2,
   "metadata": {},
   "outputs": [],
   "source": [
    "from sklearn.model_selection import train_test_split\n",
    "from sklift.models import SoloModel, ClassTransformation, TwoModels\n",
    "from sklift.metrics import qini_auc_score\n",
    "from sklearn.pipeline import Pipeline\n",
    "from sklearn.model_selection import RandomizedSearchCV\n",
    "import pandas as pd\n",
    "import numpy as np\n",
    "import lightgbm as lgb\n",
    "import os\n",
    "import seaborn as sns"
   ]
  },
  {
   "cell_type": "code",
   "execution_count": 3,
   "metadata": {},
   "outputs": [],
   "source": [
    "train = pd.read_csv('train.csv')\n",
    "test = pd.read_csv('test.csv')"
   ]
  },
  {
   "cell_type": "code",
   "execution_count": 4,
   "metadata": {},
   "outputs": [
    {
     "data": {
      "text/html": [
       "<div>\n",
       "<style scoped>\n",
       "    .dataframe tbody tr th:only-of-type {\n",
       "        vertical-align: middle;\n",
       "    }\n",
       "\n",
       "    .dataframe tbody tr th {\n",
       "        vertical-align: top;\n",
       "    }\n",
       "\n",
       "    .dataframe thead th {\n",
       "        text-align: right;\n",
       "    }\n",
       "</style>\n",
       "<table border=\"1\" class=\"dataframe\">\n",
       "  <thead>\n",
       "    <tr style=\"text-align: right;\">\n",
       "      <th></th>\n",
       "      <th>id</th>\n",
       "      <th>treatment_group</th>\n",
       "      <th>X_1</th>\n",
       "      <th>X_2</th>\n",
       "      <th>X_3</th>\n",
       "      <th>X_4</th>\n",
       "      <th>X_5</th>\n",
       "      <th>X_6</th>\n",
       "      <th>X_7</th>\n",
       "      <th>X_8</th>\n",
       "      <th>...</th>\n",
       "      <th>X_42</th>\n",
       "      <th>X_43</th>\n",
       "      <th>X_44</th>\n",
       "      <th>X_45</th>\n",
       "      <th>X_46</th>\n",
       "      <th>X_47</th>\n",
       "      <th>X_48</th>\n",
       "      <th>X_49</th>\n",
       "      <th>X_50</th>\n",
       "      <th>conversion</th>\n",
       "    </tr>\n",
       "  </thead>\n",
       "  <tbody>\n",
       "    <tr>\n",
       "      <th>0</th>\n",
       "      <td>0</td>\n",
       "      <td>control</td>\n",
       "      <td>39.396577</td>\n",
       "      <td>-0.186548</td>\n",
       "      <td>19.524505</td>\n",
       "      <td>21.250208</td>\n",
       "      <td>55.291264</td>\n",
       "      <td>182.966712</td>\n",
       "      <td>-5.385606</td>\n",
       "      <td>144.573379</td>\n",
       "      <td>...</td>\n",
       "      <td>134.363458</td>\n",
       "      <td>-213.584582</td>\n",
       "      <td>-2.092461</td>\n",
       "      <td>-93.973258</td>\n",
       "      <td>-0.155597</td>\n",
       "      <td>-312.130733</td>\n",
       "      <td>44.798182</td>\n",
       "      <td>-125.682413</td>\n",
       "      <td>16.231365</td>\n",
       "      <td>0</td>\n",
       "    </tr>\n",
       "    <tr>\n",
       "      <th>1</th>\n",
       "      <td>1</td>\n",
       "      <td>control</td>\n",
       "      <td>38.987694</td>\n",
       "      <td>0.819522</td>\n",
       "      <td>-42.064512</td>\n",
       "      <td>-48.270949</td>\n",
       "      <td>-33.171257</td>\n",
       "      <td>179.459341</td>\n",
       "      <td>-87.151810</td>\n",
       "      <td>-162.693257</td>\n",
       "      <td>...</td>\n",
       "      <td>72.864779</td>\n",
       "      <td>559.783584</td>\n",
       "      <td>1.142391</td>\n",
       "      <td>80.037124</td>\n",
       "      <td>-1.216185</td>\n",
       "      <td>-111.473936</td>\n",
       "      <td>-127.737977</td>\n",
       "      <td>-117.501171</td>\n",
       "      <td>10.732234</td>\n",
       "      <td>0</td>\n",
       "    </tr>\n",
       "    <tr>\n",
       "      <th>2</th>\n",
       "      <td>2</td>\n",
       "      <td>treatment</td>\n",
       "      <td>-16.693093</td>\n",
       "      <td>1.844558</td>\n",
       "      <td>-8.615192</td>\n",
       "      <td>-18.818740</td>\n",
       "      <td>-22.271188</td>\n",
       "      <td>-116.290369</td>\n",
       "      <td>-63.816746</td>\n",
       "      <td>-38.340763</td>\n",
       "      <td>...</td>\n",
       "      <td>2.480242</td>\n",
       "      <td>96.998504</td>\n",
       "      <td>1.100962</td>\n",
       "      <td>-33.275159</td>\n",
       "      <td>0.920926</td>\n",
       "      <td>-679.492242</td>\n",
       "      <td>-91.009397</td>\n",
       "      <td>-18.173358</td>\n",
       "      <td>14.367636</td>\n",
       "      <td>0</td>\n",
       "    </tr>\n",
       "    <tr>\n",
       "      <th>3</th>\n",
       "      <td>3</td>\n",
       "      <td>treatment</td>\n",
       "      <td>-72.040154</td>\n",
       "      <td>-0.226921</td>\n",
       "      <td>39.802607</td>\n",
       "      <td>16.441262</td>\n",
       "      <td>-1.112509</td>\n",
       "      <td>68.128008</td>\n",
       "      <td>23.073147</td>\n",
       "      <td>4.688858</td>\n",
       "      <td>...</td>\n",
       "      <td>83.951551</td>\n",
       "      <td>-323.642557</td>\n",
       "      <td>-0.369182</td>\n",
       "      <td>93.221948</td>\n",
       "      <td>-1.962380</td>\n",
       "      <td>-442.466684</td>\n",
       "      <td>-22.298302</td>\n",
       "      <td>-75.916603</td>\n",
       "      <td>11.634299</td>\n",
       "      <td>0</td>\n",
       "    </tr>\n",
       "    <tr>\n",
       "      <th>4</th>\n",
       "      <td>4</td>\n",
       "      <td>treatment</td>\n",
       "      <td>18.296973</td>\n",
       "      <td>0.996437</td>\n",
       "      <td>24.465307</td>\n",
       "      <td>-34.151971</td>\n",
       "      <td>24.623458</td>\n",
       "      <td>-155.455558</td>\n",
       "      <td>-12.159787</td>\n",
       "      <td>26.705778</td>\n",
       "      <td>...</td>\n",
       "      <td>-208.531112</td>\n",
       "      <td>118.902324</td>\n",
       "      <td>-0.808578</td>\n",
       "      <td>-117.497906</td>\n",
       "      <td>1.770635</td>\n",
       "      <td>627.395611</td>\n",
       "      <td>122.019189</td>\n",
       "      <td>194.091195</td>\n",
       "      <td>-11.883858</td>\n",
       "      <td>0</td>\n",
       "    </tr>\n",
       "  </tbody>\n",
       "</table>\n",
       "<p>5 rows × 53 columns</p>\n",
       "</div>"
      ],
      "text/plain": [
       "   id treatment_group        X_1       X_2        X_3        X_4        X_5  \\\n",
       "0   0         control  39.396577 -0.186548  19.524505  21.250208  55.291264   \n",
       "1   1         control  38.987694  0.819522 -42.064512 -48.270949 -33.171257   \n",
       "2   2       treatment -16.693093  1.844558  -8.615192 -18.818740 -22.271188   \n",
       "3   3       treatment -72.040154 -0.226921  39.802607  16.441262  -1.112509   \n",
       "4   4       treatment  18.296973  0.996437  24.465307 -34.151971  24.623458   \n",
       "\n",
       "          X_6        X_7         X_8  ...        X_42        X_43      X_44  \\\n",
       "0  182.966712  -5.385606  144.573379  ...  134.363458 -213.584582 -2.092461   \n",
       "1  179.459341 -87.151810 -162.693257  ...   72.864779  559.783584  1.142391   \n",
       "2 -116.290369 -63.816746  -38.340763  ...    2.480242   96.998504  1.100962   \n",
       "3   68.128008  23.073147    4.688858  ...   83.951551 -323.642557 -0.369182   \n",
       "4 -155.455558 -12.159787   26.705778  ... -208.531112  118.902324 -0.808578   \n",
       "\n",
       "         X_45      X_46        X_47        X_48        X_49       X_50  \\\n",
       "0  -93.973258 -0.155597 -312.130733   44.798182 -125.682413  16.231365   \n",
       "1   80.037124 -1.216185 -111.473936 -127.737977 -117.501171  10.732234   \n",
       "2  -33.275159  0.920926 -679.492242  -91.009397  -18.173358  14.367636   \n",
       "3   93.221948 -1.962380 -442.466684  -22.298302  -75.916603  11.634299   \n",
       "4 -117.497906  1.770635  627.395611  122.019189  194.091195 -11.883858   \n",
       "\n",
       "   conversion  \n",
       "0           0  \n",
       "1           0  \n",
       "2           0  \n",
       "3           0  \n",
       "4           0  \n",
       "\n",
       "[5 rows x 53 columns]"
      ]
     },
     "execution_count": 4,
     "metadata": {},
     "output_type": "execute_result"
    }
   ],
   "source": [
    "train.head()"
   ]
  },
  {
   "cell_type": "code",
   "execution_count": 7,
   "metadata": {},
   "outputs": [],
   "source": [
    "train.loc[train['treatment_group']=='treatment', 'treatment'] = 1\n",
    "train['treatment'].fillna(0, inplace=True)\n",
    "test.loc[test['treatment_group']=='treatment', 'treatment'] = 1\n",
    "test['treatment'].fillna(0, inplace=True)"
   ]
  },
  {
   "cell_type": "code",
   "execution_count": 24,
   "metadata": {},
   "outputs": [
    {
     "name": "stdout",
     "output_type": "stream",
     "text": [
      "Train shape: (600000, 54)\n",
      "Test shape: (900000, 53)\n"
     ]
    }
   ],
   "source": [
    "print('Train shape:', train.shape)\n",
    "print('Test shape:', test.shape)"
   ]
  },
  {
   "cell_type": "code",
   "execution_count": 25,
   "metadata": {},
   "outputs": [
    {
     "name": "stdout",
     "output_type": "stream",
     "text": [
      "Train N|A: 0\n",
      "Test N|A: 0\n"
     ]
    }
   ],
   "source": [
    "print('Train N|A:', train.isna().sum().sum())\n",
    "print('Test N|A:', test.isna().sum().sum())"
   ]
  },
  {
   "cell_type": "code",
   "execution_count": 99,
   "metadata": {},
   "outputs": [
    {
     "data": {
      "text/plain": [
       "<matplotlib.axes._subplots.AxesSubplot at 0x7fe9a8f8f0d0>"
      ]
     },
     "execution_count": 99,
     "metadata": {},
     "output_type": "execute_result"
    },
    {
     "data": {
      "image/png": "[encoded data removed]",
      "text/plain": [
       "<Figure size 432x288 with 1 Axes>"
      ]
     },
     "metadata": {
      "needs_background": "light"
     },
     "output_type": "display_data"
    }
   ],
   "source": [
    "sns.countplot(x='treatment', data=train)"
   ]
  },
  {
   "cell_type": "code",
   "execution_count": 21,
   "metadata": {},
   "outputs": [
    {
     "name": "stdout",
     "output_type": "stream",
     "text": [
      "300368\n",
      "299632\n",
      "449632\n",
      "450368\n"
     ]
    }
   ],
   "source": [
    "print(train.treatment.loc[train['treatment'] == 1].count()) \n",
    "print(train.treatment.loc[train['treatment'] == 0].count()) \n",
    "print(test.treatment.loc[test['treatment'] == 1].count()) \n",
    "print(test.treatment.loc[test['treatment'] == 0].count()) "
   ]
  },
  {
   "cell_type": "code",
   "execution_count": 98,
   "metadata": {},
   "outputs": [
    {
     "data": {
      "text/plain": [
       "<matplotlib.axes._subplots.AxesSubplot at 0x7fe9a9c47350>"
      ]
     },
     "execution_count": 98,
     "metadata": {},
     "output_type": "execute_result"
    },
    {
     "data": {
      "image/png": "[encoded data removed]",
      "text/plain": [
       "<Figure size 432x288 with 1 Axes>"
      ]
     },
     "metadata": {
      "needs_background": "light"
     },
     "output_type": "display_data"
    }
   ],
   "source": [
    "sns.countplot(x='conversion', data=train)"
   ]
  },
  {
   "cell_type": "code",
   "execution_count": 23,
   "metadata": {},
   "outputs": [
    {
     "name": "stdout",
     "output_type": "stream",
     "text": [
      "122514\n",
      "477486\n"
     ]
    }
   ],
   "source": [
    "print(train.conversion.loc[train['conversion'] == 1].count()) \n",
    "print(train.conversion.loc[train['conversion'] == 0].count()) "
   ]
  },
  {
   "cell_type": "code",
   "execution_count": null,
   "metadata": {},
   "outputs": [],
   "source": [
    "X_train, X_val, trmnt_train, trmnt_val, y_train, y_val = train_test_split(\n",
    "    train.drop(['id', 'treatment_group', 'treatment','conversion'], axis=1),\n",
    "    train.treatment, train.conversion,\n",
    "    stratify=train.conversion,\n",
    "    test_size=0.3,\n",
    "    random_state=42\n",
    ")"
   ]
  },
  {
   "cell_type": "code",
   "execution_count": 33,
   "metadata": {},
   "outputs": [
    {
     "name": "stdout",
     "output_type": "stream",
     "text": [
      "Qini coefficient: 0.2298\n"
     ]
    }
   ],
   "source": [
    "sm = SoloModel(lgb.LGBMClassifier(random_state=42))\n",
    "sm.fit(\n",
    "    X=X_train, \n",
    "    y=y_train, \n",
    "    treatment=trmnt_train\n",
    ")\n",
    "uplift_ct = sm.predict(X_val)\n",
    "auqc = qini_auc_score(y_val, uplift_ct, trmnt_val) \n",
    "print(f\"Qini coefficient: {auqc:.4f}\")"
   ]
  },
  {
   "cell_type": "code",
   "execution_count": 37,
   "metadata": {},
   "outputs": [
    {
     "name": "stdout",
     "output_type": "stream",
     "text": [
      "Qini coefficient: 0.2392\n"
     ]
    }
   ],
   "source": [
    "treatment_model = lgb.LGBMClassifier(random_state=42, silent=True)\n",
    "control_model = lgb.LGBMClassifier(random_state=42, silent=True)\n",
    "tm = TwoModels(treatment_model, control_model, method='vanilla')\n",
    "tm = tm.fit(X_train, y_train, trmnt_train)\n",
    "uplift_ct = tm.predict(X_val)\n",
    "auqc = qini_auc_score(y_val, uplift_ct, trmnt_val) \n",
    "print(f\"Qini coefficient: {auqc:.4f}\")"
   ]
  },
  {
   "cell_type": "code",
   "execution_count": 39,
   "metadata": {},
   "outputs": [
    {
     "name": "stdout",
     "output_type": "stream",
     "text": [
      "Qini coefficient: 0.2288\n"
     ]
    }
   ],
   "source": [
    "treatment_model = lgb.LGBMClassifier(random_state=42, silent=True)\n",
    "control_model = lgb.LGBMClassifier(random_state=42, silent=True)\n",
    "tm = TwoModels(treatment_model, control_model, method='ddr_control')\n",
    "tm = tm.fit(X_train, y_train, trmnt_train)\n",
    "uplift_ct = tm.predict(X_val)\n",
    "auqc = qini_auc_score(y_val, uplift_ct, trmnt_val) \n",
    "print(f\"Qini coefficient: {auqc:.4f}\")"
   ]
  },
  {
   "cell_type": "code",
   "execution_count": 59,
   "metadata": {},
   "outputs": [
    {
     "name": "stdout",
     "output_type": "stream",
     "text": [
      "Qini coefficient: 0.2273\n"
     ]
    }
   ],
   "source": [
    "treatment_model = lgb.LGBMClassifier(random_state=42, silent=True)\n",
    "control_model = lgb.LGBMClassifier(random_state=42, silent=True)\n",
    "tm = TwoModels(treatment_model, control_model, method='ddr_treatment')\n",
    "tm = tm.fit(X_train, y_train, trmnt_train)\n",
    "uplift_ct = tm.predict(X_val)\n",
    "auqc = qini_auc_score(y_val, uplift_ct, trmnt_val) \n",
    "print(f\"Qini coefficient: {auqc:.4f}\")"
   ]
  },
  {
   "cell_type": "code",
   "execution_count": 58,
   "metadata": {},
   "outputs": [],
   "source": []
  },
  {
   "cell_type": "code",
   "execution_count": 71,
   "metadata": {},
   "outputs": [],
   "source": [
    "est_trmnt = lgb.LGBMClassifier(random_state=42, silent=True)\n",
    "est_ctrl = lgb.LGBMClassifier(random_state=42, silent=True)\n",
    "model = TwoModels(estimator_trmnt = est_trmnt , estimator_ctrl = est_ctrl, method='vanilla')\n",
    "pipe = Pipeline([\n",
    "    ('model', model)\n",
    "])\n"
   ]
  },
  {
   "cell_type": "code",
   "execution_count": 72,
   "metadata": {
    "scrolled": true
   },
   "outputs": [
    {
     "data": {
      "text/plain": [
       "dict_keys(['memory', 'steps', 'verbose', 'model', 'model__estimator_ctrl__boosting_type', 'model__estimator_ctrl__class_weight', 'model__estimator_ctrl__colsample_bytree', 'model__estimator_ctrl__importance_type', 'model__estimator_ctrl__learning_rate', 'model__estimator_ctrl__max_depth', 'model__estimator_ctrl__min_child_samples', 'model__estimator_ctrl__min_child_weight', 'model__estimator_ctrl__min_split_gain', 'model__estimator_ctrl__n_estimators', 'model__estimator_ctrl__n_jobs', 'model__estimator_ctrl__num_leaves', 'model__estimator_ctrl__objective', 'model__estimator_ctrl__random_state', 'model__estimator_ctrl__reg_alpha', 'model__estimator_ctrl__reg_lambda', 'model__estimator_ctrl__silent', 'model__estimator_ctrl__subsample', 'model__estimator_ctrl__subsample_for_bin', 'model__estimator_ctrl__subsample_freq', 'model__estimator_ctrl', 'model__estimator_trmnt__boosting_type', 'model__estimator_trmnt__class_weight', 'model__estimator_trmnt__colsample_bytree', 'model__estimator_trmnt__importance_type', 'model__estimator_trmnt__learning_rate', 'model__estimator_trmnt__max_depth', 'model__estimator_trmnt__min_child_samples', 'model__estimator_trmnt__min_child_weight', 'model__estimator_trmnt__min_split_gain', 'model__estimator_trmnt__n_estimators', 'model__estimator_trmnt__n_jobs', 'model__estimator_trmnt__num_leaves', 'model__estimator_trmnt__objective', 'model__estimator_trmnt__random_state', 'model__estimator_trmnt__reg_alpha', 'model__estimator_trmnt__reg_lambda', 'model__estimator_trmnt__silent', 'model__estimator_trmnt__subsample', 'model__estimator_trmnt__subsample_for_bin', 'model__estimator_trmnt__subsample_freq', 'model__estimator_trmnt', 'model__method'])"
      ]
     },
     "execution_count": 72,
     "metadata": {},
     "output_type": "execute_result"
    }
   ],
   "source": [
    "pipe.get_params().keys()"
   ]
  },
  {
   "cell_type": "code",
   "execution_count": 85,
   "metadata": {},
   "outputs": [],
   "source": [
    "def scorer(clf, X, y):\n",
    "    trmnt = trmnt_val\n",
    "    return qini_auc_score(y, clf.predict(X), X.treatment) "
   ]
  },
  {
   "cell_type": "code",
   "execution_count": 94,
   "metadata": {
    "scrolled": true
   },
   "outputs": [
    {
     "data": {
      "text/plain": [
       "RandomizedSearchCV(cv=3, error_score=nan,\n",
       "                   estimator=Pipeline(memory=None,\n",
       "                                      steps=[('model',\n",
       "                                              TwoModels(estimator_ctrl=LGBMClassifier(boosting_type='gbdt',\n",
       "                                                                                      class_weight=None,\n",
       "                                                                                      colsample_bytree=1.0,\n",
       "                                                                                      importance_type='split',\n",
       "                                                                                      learning_rate=0.1,\n",
       "                                                                                      max_depth=-1,\n",
       "                                                                                      min_child_samples=20,\n",
       "                                                                                      min_child_weight=0.001,\n",
       "                                                                                      min_split_gain=0.0,\n",
       "                                                                                      n_estimators=100,\n",
       "                                                                                      n_jobs=-1,\n",
       "                                                                                      num_leaves=31,\n",
       "                                                                                      obje...\n",
       "                   param_distributions={'model__estimator_ctrl__boosting_type': ['gbdt',\n",
       "                                                                                 'dart'],\n",
       "                                        'model__estimator_ctrl__num_leaves': [10,\n",
       "                                                                              30,\n",
       "                                                                              50],\n",
       "                                        'model__estimator_trmnt__boosting_type': ['gbdt',\n",
       "                                                                                  'dart'],\n",
       "                                        'model__estimator_trmnt__num_leaves': [10,\n",
       "                                                                               30,\n",
       "                                                                               50]},\n",
       "                   pre_dispatch='2*n_jobs', random_state=42, refit=True,\n",
       "                   return_train_score=False,\n",
       "                   scoring=<function scorer at 0x7fe9b84cd170>, verbose=0)"
      ]
     },
     "execution_count": 94,
     "metadata": {},
     "output_type": "execute_result"
    }
   ],
   "source": [
    "param_grid = {\n",
    "    'model__estimator_trmnt__num_leaves': [10, 20, 30, 40, 50],\n",
    "    'model__estimator_ctrl__num_leaves': [10, 20, 30, 40, 50],\n",
    "    'model__estimator_trmnt__boosting_type': ['gbdt', 'dart'],\n",
    "    'model__estimator_ctrl__boosting_type': ['gbdt', 'dart'],\n",
    "}\n",
    "fit_params={\n",
    "    'model__treatment':train.treatment\n",
    "}\n",
    "gs = RandomizedSearchCV(pipe, param_grid, scoring=scorer,\n",
    "n_iter = 10, cv = 3, random_state=42)\n",
    "gs.fit(train.drop(['id', 'treatment_group', 'conversion'], axis=1), train.conversion, **fit_params)"
   ]
  },
  {
   "cell_type": "code",
   "execution_count": 96,
   "metadata": {},
   "outputs": [
    {
     "name": "stdout",
     "output_type": "stream",
     "text": [
      "Best score reached: 0.23963213838494848 with params: {'model__estimator_trmnt__num_leaves': 50, 'model__estimator_trmnt__boosting_type': 'gbdt', 'model__estimator_ctrl__num_leaves': 30, 'model__estimator_ctrl__boosting_type': 'gbdt'} \n"
     ]
    }
   ],
   "source": [
    "print('Best score reached: {} with params: {} '.format(gs.best_score_, gs.best_params_))"
   ]
  },
  {
   "cell_type": "code",
   "execution_count": 97,
   "metadata": {},
   "outputs": [],
   "source": [
    "sub = pd.DataFrame()\n",
    "sub['id'] = test.iloc[:,0]\n",
    "sub['pred'] = gs.predict(test.drop(['id', 'treatment_group'], axis=1).values)\n",
    "sub.to_csv('sub.csv', index=False)"
   ]
  },
  {
   "cell_type": "code",
   "execution_count": null,
   "metadata": {},
   "outputs": [],
   "source": []
  }
 ],
 "metadata": {
  "kernelspec": {
   "display_name": "Python 3",
   "language": "python",
   "name": "python3"
  },
  "language_info": {
   "codemirror_mode": {
    "name": "ipython",
    "version": 3
   },
   "file_extension": ".py",
   "mimetype": "text/x-python",
   "name": "python",
   "nbconvert_exporter": "python",
   "pygments_lexer": "ipython3",
   "version": "3.7.6"
  }
 },
 "nbformat": 4,
 "nbformat_minor": 4
}
