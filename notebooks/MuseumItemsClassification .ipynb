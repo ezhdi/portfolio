{
 "cells": [
  {
   "cell_type": "markdown",
   "metadata": {},
   "source": [
    "# Цифровой прорыв 2021 \n",
    "\n",
    "## Задача: Музейный фонд\n",
    "\n",
    "https://cups.mail.ru/ru/tasks/1087\n",
    "\n",
    "Обучение искусственного интеллекта на распознавание вида или категории предмета музейного фонда при внесении нового предмета в каталог. Метрика F1-score.\n",
    "\n",
    "Безлайн по текстовым данным. \n",
    "55 место, F1 =  "
   ]
  },
  {
   "cell_type": "code",
   "execution_count": 37,
   "metadata": {},
   "outputs": [],
   "source": [
    "import pandas as pd\n",
    "import numpy as np\n",
    "from sklearn.metrics import f1_score\n",
    "from sklearn.model_selection import train_test_split\n",
    "import matplotlib.pyplot as plt\n",
    "%matplotlib inline\n",
    "plt.style.use('ggplot')\n",
    "import lightgbm as lgb\n",
    "import re"
   ]
  },
  {
   "cell_type": "code",
   "execution_count": 38,
   "metadata": {},
   "outputs": [],
   "source": [
    "from sklearn.feature_extraction.text import TfidfVectorizer"
   ]
  },
  {
   "cell_type": "code",
   "execution_count": 39,
   "metadata": {},
   "outputs": [],
   "source": [
    "from sklearn.linear_model import LogisticRegression\n",
    "from sklearn.neighbors import KNeighborsClassifier\n",
    "import lightgbm as lgb\n",
    "from sklearn.linear_model import RidgeClassifier\n",
    "from sklearn.linear_model import SGDClassifier"
   ]
  },
  {
   "cell_type": "code",
   "execution_count": 70,
   "metadata": {},
   "outputs": [],
   "source": [
    "train = pd.read_csv('train_url_only.csv')"
   ]
  },
  {
   "cell_type": "code",
   "execution_count": 71,
   "metadata": {},
   "outputs": [
    {
     "data": {
      "text/html": [
       "<div>\n",
       "<style scoped>\n",
       "    .dataframe tbody tr th:only-of-type {\n",
       "        vertical-align: middle;\n",
       "    }\n",
       "\n",
       "    .dataframe tbody tr th {\n",
       "        vertical-align: top;\n",
       "    }\n",
       "\n",
       "    .dataframe thead th {\n",
       "        text-align: right;\n",
       "    }\n",
       "</style>\n",
       "<table border=\"1\" class=\"dataframe\">\n",
       "  <thead>\n",
       "    <tr style=\"text-align: right;\">\n",
       "      <th></th>\n",
       "      <th>guid</th>\n",
       "      <th>description</th>\n",
       "      <th>typology</th>\n",
       "      <th>url</th>\n",
       "    </tr>\n",
       "  </thead>\n",
       "  <tbody>\n",
       "    <tr>\n",
       "      <th>0</th>\n",
       "      <td>8d49dc72-33d6-4dbc-b269-de6c1fc563b4</td>\n",
       "      <td>Паспортная книжка Краморева Г.Д.Выдана Новозыб...</td>\n",
       "      <td>документы</td>\n",
       "      <td>NaN</td>\n",
       "    </tr>\n",
       "    <tr>\n",
       "      <th>1</th>\n",
       "      <td>43854438-31d8-4551-b3bb-73d44c02dc95</td>\n",
       "      <td>Открытка почтовая: \"Воен. Гр. Дор. Гора Казбек\".</td>\n",
       "      <td>прочие</td>\n",
       "      <td>http://goskatalog.ru/muzfo-imaginator/rest/ima...</td>\n",
       "    </tr>\n",
       "    <tr>\n",
       "      <th>2</th>\n",
       "      <td>6e138bdb-c1f7-4d57-8b73-52340a96d31b</td>\n",
       "      <td>Брошюра. Положение о добровольных народных дру...</td>\n",
       "      <td>документы</td>\n",
       "      <td>NaN</td>\n",
       "    </tr>\n",
       "    <tr>\n",
       "      <th>3</th>\n",
       "      <td>440c521d-bd15-4b0f-a89b-8b0b160edf04</td>\n",
       "      <td>Карточка на жиры для рабочих и ИТР, работающих...</td>\n",
       "      <td>документы</td>\n",
       "      <td>NaN</td>\n",
       "    </tr>\n",
       "    <tr>\n",
       "      <th>4</th>\n",
       "      <td>b1a6f073-a833-4a08-8c11-48b29d361494</td>\n",
       "      <td>Листовка \"Молодые рабочие и работницы! Знаете ...</td>\n",
       "      <td>документы</td>\n",
       "      <td>NaN</td>\n",
       "    </tr>\n",
       "  </tbody>\n",
       "</table>\n",
       "</div>"
      ],
      "text/plain": [
       "                                   guid  \\\n",
       "0  8d49dc72-33d6-4dbc-b269-de6c1fc563b4   \n",
       "1  43854438-31d8-4551-b3bb-73d44c02dc95   \n",
       "2  6e138bdb-c1f7-4d57-8b73-52340a96d31b   \n",
       "3  440c521d-bd15-4b0f-a89b-8b0b160edf04   \n",
       "4  b1a6f073-a833-4a08-8c11-48b29d361494   \n",
       "\n",
       "                                         description   typology  \\\n",
       "0  Паспортная книжка Краморева Г.Д.Выдана Новозыб...  документы   \n",
       "1   Открытка почтовая: \"Воен. Гр. Дор. Гора Казбек\".     прочие   \n",
       "2  Брошюра. Положение о добровольных народных дру...  документы   \n",
       "3  Карточка на жиры для рабочих и ИТР, работающих...  документы   \n",
       "4  Листовка \"Молодые рабочие и работницы! Знаете ...  документы   \n",
       "\n",
       "                                                 url  \n",
       "0                                                NaN  \n",
       "1  http://goskatalog.ru/muzfo-imaginator/rest/ima...  \n",
       "2                                                NaN  \n",
       "3                                                NaN  \n",
       "4                                                NaN  "
      ]
     },
     "execution_count": 71,
     "metadata": {},
     "output_type": "execute_result"
    }
   ],
   "source": [
    "train.head()"
   ]
  },
  {
   "cell_type": "code",
   "execution_count": 72,
   "metadata": {},
   "outputs": [
    {
     "data": {
      "text/html": [
       "<div>\n",
       "<style scoped>\n",
       "    .dataframe tbody tr th:only-of-type {\n",
       "        vertical-align: middle;\n",
       "    }\n",
       "\n",
       "    .dataframe tbody tr th {\n",
       "        vertical-align: top;\n",
       "    }\n",
       "\n",
       "    .dataframe thead th {\n",
       "        text-align: right;\n",
       "    }\n",
       "</style>\n",
       "<table border=\"1\" class=\"dataframe\">\n",
       "  <thead>\n",
       "    <tr style=\"text-align: right;\">\n",
       "      <th></th>\n",
       "      <th>guid</th>\n",
       "      <th>description</th>\n",
       "      <th>typology</th>\n",
       "    </tr>\n",
       "  </thead>\n",
       "  <tbody>\n",
       "    <tr>\n",
       "      <th>0</th>\n",
       "      <td>a74014d7-3054-45bd-b284-ac117ccd2001</td>\n",
       "      <td>NaN</td>\n",
       "      <td>NaN</td>\n",
       "    </tr>\n",
       "    <tr>\n",
       "      <th>1</th>\n",
       "      <td>783eab83-a48c-4950-996a-386fe93a3ccd</td>\n",
       "      <td>Образец волос. Удмурты</td>\n",
       "      <td>NaN</td>\n",
       "    </tr>\n",
       "    <tr>\n",
       "      <th>2</th>\n",
       "      <td>8e7e2514-fab3-4287-be06-aae93c5397e0</td>\n",
       "      <td>NaN</td>\n",
       "      <td>NaN</td>\n",
       "    </tr>\n",
       "    <tr>\n",
       "      <th>3</th>\n",
       "      <td>dc1964ce-9248-4fe7-9d4b-c110ac270f64</td>\n",
       "      <td>фрески фрагмент, фон. Из комплекта: Фресок фра...</td>\n",
       "      <td>NaN</td>\n",
       "    </tr>\n",
       "    <tr>\n",
       "      <th>4</th>\n",
       "      <td>1dd23c5e-bf5d-45b7-9894-07bfdf91ae80</td>\n",
       "      <td>Афиша. \"Королевские цветы\" (муз. А. Рыбникова)...</td>\n",
       "      <td>NaN</td>\n",
       "    </tr>\n",
       "  </tbody>\n",
       "</table>\n",
       "</div>"
      ],
      "text/plain": [
       "                                   guid  \\\n",
       "0  a74014d7-3054-45bd-b284-ac117ccd2001   \n",
       "1  783eab83-a48c-4950-996a-386fe93a3ccd   \n",
       "2  8e7e2514-fab3-4287-be06-aae93c5397e0   \n",
       "3  dc1964ce-9248-4fe7-9d4b-c110ac270f64   \n",
       "4  1dd23c5e-bf5d-45b7-9894-07bfdf91ae80   \n",
       "\n",
       "                                         description  typology  \n",
       "0                                                NaN       NaN  \n",
       "1                             Образец волос. Удмурты       NaN  \n",
       "2                                                NaN       NaN  \n",
       "3  фрески фрагмент, фон. Из комплекта: Фресок фра...       NaN  \n",
       "4  Афиша. \"Королевские цветы\" (муз. А. Рыбникова)...       NaN  "
      ]
     },
     "execution_count": 72,
     "metadata": {},
     "output_type": "execute_result"
    }
   ],
   "source": [
    "test = pd.read_csv('test.csv')\n",
    "test.head()"
   ]
  },
  {
   "cell_type": "code",
   "execution_count": 73,
   "metadata": {},
   "outputs": [
    {
     "name": "stdout",
     "output_type": "stream",
     "text": [
      "197202\n",
      "1223\n"
     ]
    }
   ],
   "source": [
    "print(train.shape[0])\n",
    "print(test.shape[0])"
   ]
  },
  {
   "cell_type": "code",
   "execution_count": 74,
   "metadata": {},
   "outputs": [
    {
     "name": "stdout",
     "output_type": "stream",
     "text": [
      "0\n",
      "547\n"
     ]
    }
   ],
   "source": [
    "print(train.description.isna().sum())\n",
    "print(test.description.isna().sum())"
   ]
  },
  {
   "cell_type": "code",
   "execution_count": 75,
   "metadata": {},
   "outputs": [
    {
     "data": {
      "text/plain": [
       "6"
      ]
     },
     "execution_count": 75,
     "metadata": {},
     "output_type": "execute_result"
    }
   ],
   "source": [
    "train.typology.isna().sum()"
   ]
  },
  {
   "cell_type": "code",
   "execution_count": 76,
   "metadata": {},
   "outputs": [],
   "source": [
    "train.dropna(subset = ['typology'], inplace = True)"
   ]
  },
  {
   "cell_type": "code",
   "execution_count": 77,
   "metadata": {},
   "outputs": [
    {
     "data": {
      "text/plain": [
       "документы                                             30473\n",
       "фотографии и негативы                                 29661\n",
       "предметы археологии                                   24062\n",
       "предметы прикладного искусства, быта и этнографии     23127\n",
       "предметы нумизматики                                  22994\n",
       "предметы печатной продукции                           20598\n",
       "графика                                               15232\n",
       "прочие                                                10376\n",
       "редкие книги                                           8253\n",
       "предметы естественнонаучной коллекции                  4472\n",
       "живопись                                               3563\n",
       "предметы техники                                       1526\n",
       "предметы минералогической коллекции                    1421\n",
       "оружие                                                  811\n",
       "скульптура                                              547\n",
       "предметы этнографии                                      39\n",
       "документы, редкие книги                                  26\n",
       "изделия прикладного искусства                            13\n",
       "Фотографии                                                1\n",
       "предметы прикладного искусства, быта и этнографии         1\n",
       "Name: typology, dtype: int64"
      ]
     },
     "execution_count": 77,
     "metadata": {},
     "output_type": "execute_result"
    }
   ],
   "source": [
    "train.typology.value_counts()"
   ]
  },
  {
   "cell_type": "code",
   "execution_count": 78,
   "metadata": {},
   "outputs": [],
   "source": [
    "train['description'] = train['description'].apply(lambda x: x.lower())\n",
    "train['description'] = train['description'].apply(lambda x: re.sub(\"[^а-яА-Я]\", \" \", x))"
   ]
  },
  {
   "cell_type": "code",
   "execution_count": 79,
   "metadata": {},
   "outputs": [],
   "source": [
    "test.description = test.description.fillna(' ')"
   ]
  },
  {
   "cell_type": "code",
   "execution_count": 80,
   "metadata": {},
   "outputs": [],
   "source": [
    "test['description'] = test['description'].apply(lambda x: x.lower())\n",
    "test['description'] = test['description'].apply(lambda x: re.sub(\"[^а-яА-Я]\", \" \", x))"
   ]
  },
  {
   "cell_type": "code",
   "execution_count": 81,
   "metadata": {},
   "outputs": [],
   "source": [
    "all_text = list(train.description) + list(test.description)"
   ]
  },
  {
   "cell_type": "code",
   "execution_count": 84,
   "metadata": {},
   "outputs": [],
   "source": [
    "vec = TfidfVectorizer()"
   ]
  },
  {
   "cell_type": "code",
   "execution_count": 85,
   "metadata": {},
   "outputs": [
    {
     "data": {
      "text/plain": [
       "TfidfVectorizer(analyzer='word', binary=False, decode_error='strict',\n",
       "                dtype=<class 'numpy.float64'>, encoding='utf-8',\n",
       "                input='content', lowercase=True, max_df=1.0, max_features=None,\n",
       "                min_df=1, ngram_range=(1, 1), norm='l2', preprocessor=None,\n",
       "                smooth_idf=True, stop_words=None, strip_accents=None,\n",
       "                sublinear_tf=False, token_pattern='(?u)\\\\b\\\\w\\\\w+\\\\b',\n",
       "                tokenizer=None, use_idf=True, vocabulary=None)"
      ]
     },
     "execution_count": 85,
     "metadata": {},
     "output_type": "execute_result"
    }
   ],
   "source": [
    "vec.fit(all_text)"
   ]
  },
  {
   "cell_type": "code",
   "execution_count": 86,
   "metadata": {},
   "outputs": [],
   "source": [
    "X = vec.transform(train.description)\n",
    "y = train.typology"
   ]
  },
  {
   "cell_type": "code",
   "execution_count": 87,
   "metadata": {},
   "outputs": [],
   "source": [
    "X_train, X_test, y_train, y_test = train_test_split(X, y, test_size=0.2, random_state=42)"
   ]
  },
  {
   "cell_type": "code",
   "execution_count": 89,
   "metadata": {},
   "outputs": [
    {
     "name": "stderr",
     "output_type": "stream",
     "text": [
      "/home/darya/anaconda3/lib/python3.7/site-packages/sklearn/linear_model/_logistic.py:940: ConvergenceWarning: lbfgs failed to converge (status=1):\n",
      "STOP: TOTAL NO. of ITERATIONS REACHED LIMIT.\n",
      "\n",
      "Increase the number of iterations (max_iter) or scale the data as shown in:\n",
      "    https://scikit-learn.org/stable/modules/preprocessing.html\n",
      "Please also refer to the documentation for alternative solver options:\n",
      "    https://scikit-learn.org/stable/modules/linear_model.html#logistic-regression\n",
      "  extra_warning_msg=_LOGISTIC_SOLVER_CONVERGENCE_MSG)\n"
     ]
    },
    {
     "name": "stdout",
     "output_type": "stream",
     "text": [
      "0.5270574942112162\n",
      "0.39192808580707433\n",
      "0.5792938317026431\n",
      "0.5436193737178104\n",
      "0.39246204788145483\n"
     ]
    }
   ],
   "source": [
    "models = [LogisticRegression(random_state=1), KNeighborsClassifier(), RidgeClassifier(random_state=1), \n",
    "          SGDClassifier(random_state=1), lgb.LGBMClassifier(random_state=42, silent=True)]\n",
    "for model in models:\n",
    "    model.fit(X_train, y_train)\n",
    "    print(f1_score(y_test, model.predict(X_test), average='macro'))"
   ]
  },
  {
   "cell_type": "code",
   "execution_count": 90,
   "metadata": {},
   "outputs": [
    {
     "data": {
      "text/plain": [
       "RidgeClassifier(alpha=1.0, class_weight=None, copy_X=True, fit_intercept=True,\n",
       "                max_iter=None, normalize=False, random_state=1, solver='auto',\n",
       "                tol=0.001)"
      ]
     },
     "execution_count": 90,
     "metadata": {},
     "output_type": "execute_result"
    }
   ],
   "source": [
    "test_text = vec.transform(test.description)\n",
    "model = RidgeClassifier(random_state=1)\n",
    "model.fit(X, y)\n"
   ]
  },
  {
   "cell_type": "code",
   "execution_count": 91,
   "metadata": {},
   "outputs": [],
   "source": [
    "pred = model.predict(test_text)"
   ]
  },
  {
   "cell_type": "code",
   "execution_count": 92,
   "metadata": {},
   "outputs": [],
   "source": [
    "sub = pd.DataFrame()\n",
    "sub['guid'] = test.iloc[:,0]\n",
    "sub['typology'] = pred\n",
    "sub.to_csv('text_baseline.csv', index=False)"
   ]
  },
  {
   "cell_type": "code",
   "execution_count": null,
   "metadata": {},
   "outputs": [],
   "source": []
  }
 ],
 "metadata": {
  "kernelspec": {
   "display_name": "Python 3",
   "language": "python",
   "name": "python3"
  },
  "language_info": {
   "codemirror_mode": {
    "name": "ipython",
    "version": 3
   },
   "file_extension": ".py",
   "mimetype": "text/x-python",
   "name": "python",
   "nbconvert_exporter": "python",
   "pygments_lexer": "ipython3",
   "version": "3.7.6"
  }
 },
 "nbformat": 4,
 "nbformat_minor": 4
}
