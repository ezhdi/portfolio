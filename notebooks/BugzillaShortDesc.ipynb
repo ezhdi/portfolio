{
 "cells": [
  {
   "cell_type": "markdown",
   "metadata": {},
   "source": [
    "# Классификация ошибок Bugzilla"
   ]
  },
  {
   "cell_type": "markdown",
   "metadata": {},
   "source": [
    "Дается описание ошибок из системы Bugzilla. Необходимо определить, к какому компоненту они относятся. В решении использовалось только короткое текстовое описание ошибки"
   ]
  },
  {
   "cell_type": "code",
   "execution_count": 1,
   "metadata": {
    "colab": {
     "base_uri": "https://localhost:8080/",
     "height": 122
    },
    "colab_type": "code",
    "executionInfo": {
     "elapsed": 33174,
     "status": "ok",
     "timestamp": 1540548919021,
     "user": {
      "displayName": "Darya Ezhova",
      "photoUrl": "",
      "userId": "05078344894993071262"
     },
     "user_tz": -240
    },
    "id": "DEXUQYla1_eS",
    "outputId": "ebecc802-90f0-4ece-d355-e36098e3b196"
   },
   "outputs": [
    {
     "name": "stdout",
     "output_type": "stream",
     "text": [
      "Go to this URL in a browser: https://accounts.google.com/o/oauth2/auth?client_id=947318989803-6bn6qk8qdgf4n4g3pfee6491hc0brc4i.apps.googleusercontent.com&redirect_uri=urn%3Aietf%3Awg%3Aoauth%3A2.0%3Aoob&scope=email%20https%3A%2F%2Fwww.googleapis.com%2Fauth%2Fdocs.test%20https%3A%2F%2Fwww.googleapis.com%2Fauth%2Fdrive%20https%3A%2F%2Fwww.googleapis.com%2Fauth%2Fdrive.photos.readonly%20https%3A%2F%2Fwww.googleapis.com%2Fauth%2Fpeopleapi.readonly&response_type=code\n",
      "\n",
      "Enter your authorization code:\n",
      "··········\n",
      "Mounted at /content/gdrive\n"
     ]
    }
   ],
   "source": [
    "from google.colab import drive\n",
    "drive.mount('/content/gdrive')"
   ]
  },
  {
   "cell_type": "code",
   "execution_count": 0,
   "metadata": {
    "colab": {},
    "colab_type": "code",
    "id": "P3u6qr2T1tLT"
   },
   "outputs": [],
   "source": [
    "import pandas as pd\n",
    "import numpy as np"
   ]
  },
  {
   "cell_type": "code",
   "execution_count": 3,
   "metadata": {
    "colab": {
     "base_uri": "https://localhost:8080/",
     "height": 71
    },
    "colab_type": "code",
    "executionInfo": {
     "elapsed": 737,
     "status": "ok",
     "timestamp": 1540548921659,
     "user": {
      "displayName": "Darya Ezhova",
      "photoUrl": "",
      "userId": "05078344894993071262"
     },
     "user_tz": -240
    },
    "id": "AGVvNLxf0f0q",
    "outputId": "6a0ff217-5862-44a1-e3aa-e5eb5051ad0c"
   },
   "outputs": [
    {
     "name": "stderr",
     "output_type": "stream",
     "text": [
      "/usr/local/lib/python3.6/dist-packages/sklearn/cross_validation.py:41: DeprecationWarning: This module was deprecated in version 0.18 in favor of the model_selection module into which all the refactored classes and functions are moved. Also note that the interface of the new CV iterators are different from that of this module. This module will be removed in 0.20.\n",
      "  \"This module will be removed in 0.20.\", DeprecationWarning)\n"
     ]
    }
   ],
   "source": [
    "from sklearn.feature_extraction.text import TfidfTransformer, CountVectorizer, TfidfVectorizer\n",
    "from sklearn.cross_validation import cross_val_score\n",
    "from sklearn.pipeline import Pipeline\n",
    "from sklearn.svm import LinearSVC\n",
    "from sklearn.naive_bayes import MultinomialNB\n",
    "from sklearn.neighbors import KNeighborsClassifier, NearestNeighbors\n",
    "from sklearn.linear_model import LogisticRegression, SGDClassifier\n",
    "from sklearn.model_selection import GridSearchCV"
   ]
  },
  {
   "cell_type": "code",
   "execution_count": 0,
   "metadata": {
    "colab": {},
    "colab_type": "code",
    "id": "CZqlXI7Q1g3c"
   },
   "outputs": [],
   "source": [
    "def text_classifier(vectorizer, classifier):\n",
    "    return Pipeline(\n",
    "            [(\"vectorizer\", vectorizer),\n",
    "            (\"classifier\", classifier)]\n",
    "        )"
   ]
  },
  {
   "cell_type": "code",
   "execution_count": 0,
   "metadata": {
    "colab": {},
    "colab_type": "code",
    "id": "y6vHtQRh1tLc"
   },
   "outputs": [],
   "source": [
    "train = pd.read_csv('/content/gdrive/My Drive/Data/competitor_package/data/bugs-training.csv')"
   ]
  },
  {
   "cell_type": "code",
   "execution_count": 0,
   "metadata": {
    "colab": {},
    "colab_type": "code",
    "id": "xc4Z7Qjp1tL0"
   },
   "outputs": [],
   "source": [
    "test = pd.read_csv('/content/gdrive/My Drive/Data/competitor_package/data/bugs-testing.csv')"
   ]
  },
  {
   "cell_type": "markdown",
   "metadata": {},
   "source": [
    "Удаляем лишние символы из текста"
   ]
  },
  {
   "cell_type": "code",
   "execution_count": 0,
   "metadata": {
    "colab": {},
    "colab_type": "code",
    "id": "wny7BgIi3Cka"
   },
   "outputs": [],
   "source": [
    "import re\n",
    "\n",
    "train['short_desc'] = train['short_desc'].map(lambda x: re.sub('\\n',' ',str(x)))\n",
    "train['short_desc'] = train['short_desc'].map(lambda x: re.sub(':',' ',str(x)))\n",
    "train['short_desc'] = train['short_desc'].map(lambda x: re.sub('\"',' ',str(x)))"
   ]
  },
  {
   "cell_type": "code",
   "execution_count": 0,
   "metadata": {
    "colab": {},
    "colab_type": "code",
    "id": "x1m-a3am1iLw"
   },
   "outputs": [],
   "source": [
    "texts = train['short_desc']\n",
    "labels = train['component_id']"
   ]
  },
  {
   "cell_type": "code",
   "execution_count": 0,
   "metadata": {
    "colab": {},
    "colab_type": "code",
    "id": "tvvuXj0aIe8g"
   },
   "outputs": [],
   "source": [
    "vec = TfidfVectorizer(ngram_range=(1,2),\n",
    "               min_df=3, max_df=0.9, strip_accents='unicode', use_idf=1,\n",
    "               smooth_idf=1, sublinear_tf=1 )\n",
    "\n",
    "tc = text_classifier(vec, LogisticRegression(C=4, dual=True))"
   ]
  },
  {
   "cell_type": "code",
   "execution_count": 0,
   "metadata": {
    "colab": {},
    "colab_type": "code",
    "id": "rIW8Li6B4B4z"
   },
   "outputs": [],
   "source": [
    "#tc = text_classifier(CountVectorizer(stop_words='english'), LogisticRegression(C=12.0))"
   ]
  },
  {
   "cell_type": "code",
   "execution_count": 12,
   "metadata": {
    "colab": {
     "base_uri": "https://localhost:8080/",
     "height": 119
    },
    "colab_type": "code",
    "executionInfo": {
     "elapsed": 8121975,
     "status": "ok",
     "timestamp": 1540557085683,
     "user": {
      "displayName": "Darya Ezhova",
      "photoUrl": "",
      "userId": "05078344894993071262"
     },
     "user_tz": -240
    },
    "id": "6Wnh3EdB4Pkt",
    "outputId": "efc24f99-585b-4fa8-d730-94ba8c7f6cca"
   },
   "outputs": [
    {
     "data": {
      "text/plain": [
       "Pipeline(memory=None,\n",
       "     steps=[('vectorizer', TfidfVectorizer(analyzer='word', binary=False, decode_error='strict',\n",
       "        dtype=<class 'numpy.int64'>, encoding='utf-8', input='content',\n",
       "        lowercase=True, max_df=0.9, max_features=None, min_df=3,\n",
       "        ngram_range=(1, 2), norm='l2', preprocessor=None, smooth_idf=1,...ty='l2', random_state=None, solver='liblinear', tol=0.0001,\n",
       "          verbose=0, warm_start=False))])"
      ]
     },
     "execution_count": 12,
     "metadata": {
      "tags": []
     },
     "output_type": "execute_result"
    }
   ],
   "source": [
    "tc.fit(texts, labels)"
   ]
  },
  {
   "cell_type": "code",
   "execution_count": 0,
   "metadata": {
    "colab": {},
    "colab_type": "code",
    "id": "e_Who28u1tNY"
   },
   "outputs": [],
   "source": [
    "pred = tc.predict(test['short_desc'])\n",
    "pred_proba = tc.predict_proba(test['short_desc'])\n"
   ]
  },
  {
   "cell_type": "code",
   "execution_count": 0,
   "metadata": {
    "colab": {},
    "colab_type": "code",
    "id": "owvmShu-Jqyg"
   },
   "outputs": [],
   "source": [
    "score = [max(i) for i in pred_proba]"
   ]
  },
  {
   "cell_type": "code",
   "execution_count": 0,
   "metadata": {
    "colab": {},
    "colab_type": "code",
    "id": "JYRgfG_Z1tNc"
   },
   "outputs": [],
   "source": [
    "submission_df = {\"component_id\": pred, \"confidence_score\": score}"
   ]
  },
  {
   "cell_type": "code",
   "execution_count": 0,
   "metadata": {
    "colab": {},
    "colab_type": "code",
    "id": "uKLfPemJ7_xS"
   },
   "outputs": [],
   "source": [
    "submission = pd.DataFrame.from_dict(submission_df)"
   ]
  },
  {
   "cell_type": "code",
   "execution_count": 0,
   "metadata": {
    "colab": {},
    "colab_type": "code",
    "id": "dGbLa3O21tNh"
   },
   "outputs": [],
   "source": [
    "submission.to_csv(\"/content/gdrive/My Drive/Data/competitor_package/bgz-sub.csv\", index=False)"
   ]
  }
 ],
 "metadata": {
  "accelerator": "GPU",
  "colab": {
   "name": "BugzillaShortDesc.ipynb",
   "provenance": [
    {
     "file_id": "1MZ_OjvkOKMgF1WnA99J1KnZhwF_PfwUD",
     "timestamp": 1539960836635
    }
   ],
   "version": "0.3.2"
  },
  "kernelspec": {
   "display_name": "Python 3",
   "language": "python",
   "name": "python3"
  },
  "language_info": {
   "codemirror_mode": {
    "name": "ipython",
    "version": 3
   },
   "file_extension": ".py",
   "mimetype": "text/x-python",
   "name": "python",
   "nbconvert_exporter": "python",
   "pygments_lexer": "ipython3",
   "version": "3.6.4"
  }
 },
 "nbformat": 4,
 "nbformat_minor": 1
}
