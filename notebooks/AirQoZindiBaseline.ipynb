{
 "cells": [
  {
   "cell_type": "markdown",
   "metadata": {},
   "source": [
    "# AirQo Low-Cost Air Quality Monitor Calibration Challenge"
   ]
  },
  {
   "cell_type": "markdown",
   "metadata": {},
   "source": [
    "https://zindi.africa/competitions/airqo-low-cost-air-quality-monitor-calibration-challenge"
   ]
  },
  {
   "cell_type": "markdown",
   "metadata": {},
   "source": [
    "Бейзлайн для соревнования по предсказанию качества воздуха на платформе Zindi"
   ]
  },
  {
   "cell_type": "code",
   "execution_count": 37,
   "metadata": {},
   "outputs": [],
   "source": [
    "import numpy as np\n",
    "import pandas as pd\n",
    "import warnings\n",
    "warnings.filterwarnings('ignore')\n",
    "from sklearn.metrics import mean_squared_error\n",
    "from sklearn.linear_model import Ridge\n",
    "from sklearn.ensemble import RandomForestRegressor\n",
    "from sklearn.neighbors import KNeighborsRegressor\n",
    "from sklearn.model_selection import train_test_split"
   ]
  },
  {
   "cell_type": "code",
   "execution_count": 11,
   "metadata": {},
   "outputs": [],
   "source": [
    "train = pd.read_csv('Train.csv')\n",
    "test = pd.read_csv('Test.csv')\n",
    "\n",
    "subm = pd.read_csv('SampleSubmission.csv')"
   ]
  },
  {
   "cell_type": "code",
   "execution_count": 12,
   "metadata": {},
   "outputs": [
    {
     "data": {
      "text/html": [
       "<div>\n",
       "<style scoped>\n",
       "    .dataframe tbody tr th:only-of-type {\n",
       "        vertical-align: middle;\n",
       "    }\n",
       "\n",
       "    .dataframe tbody tr th {\n",
       "        vertical-align: top;\n",
       "    }\n",
       "\n",
       "    .dataframe thead th {\n",
       "        text-align: right;\n",
       "    }\n",
       "</style>\n",
       "<table border=\"1\" class=\"dataframe\">\n",
       "  <thead>\n",
       "    <tr style=\"text-align: right;\">\n",
       "      <th></th>\n",
       "      <th>ID</th>\n",
       "      <th>created_at</th>\n",
       "      <th>site</th>\n",
       "      <th>pm2_5</th>\n",
       "      <th>pm10</th>\n",
       "      <th>s2_pm2_5</th>\n",
       "      <th>s2_pm10</th>\n",
       "      <th>humidity</th>\n",
       "      <th>temp</th>\n",
       "      <th>lat</th>\n",
       "      <th>long</th>\n",
       "      <th>altitude</th>\n",
       "      <th>greenness</th>\n",
       "      <th>landform_90m</th>\n",
       "      <th>landform_270m</th>\n",
       "      <th>population</th>\n",
       "      <th>dist_major_road</th>\n",
       "      <th>ref_pm2_5</th>\n",
       "    </tr>\n",
       "  </thead>\n",
       "  <tbody>\n",
       "    <tr>\n",
       "      <th>0</th>\n",
       "      <td>ID_0038MG0B</td>\n",
       "      <td>2020-04-23 17:00:00+03:00</td>\n",
       "      <td>USEmbassy</td>\n",
       "      <td>6.819048</td>\n",
       "      <td>7.313810</td>\n",
       "      <td>6.794048</td>\n",
       "      <td>7.838333</td>\n",
       "      <td>0.807417</td>\n",
       "      <td>22.383333</td>\n",
       "      <td>0.299255</td>\n",
       "      <td>32.592686</td>\n",
       "      <td>1199</td>\n",
       "      <td>4374</td>\n",
       "      <td>21</td>\n",
       "      <td>14</td>\n",
       "      <td>6834</td>\n",
       "      <td>130</td>\n",
       "      <td>25.0</td>\n",
       "    </tr>\n",
       "    <tr>\n",
       "      <th>1</th>\n",
       "      <td>ID_008ASVDD</td>\n",
       "      <td>2020-02-23 19:00:00+03:00</td>\n",
       "      <td>USEmbassy</td>\n",
       "      <td>57.456047</td>\n",
       "      <td>67.883488</td>\n",
       "      <td>55.643488</td>\n",
       "      <td>70.646977</td>\n",
       "      <td>0.712417</td>\n",
       "      <td>25.350000</td>\n",
       "      <td>0.299255</td>\n",
       "      <td>32.592686</td>\n",
       "      <td>1199</td>\n",
       "      <td>4374</td>\n",
       "      <td>21</td>\n",
       "      <td>14</td>\n",
       "      <td>6834</td>\n",
       "      <td>130</td>\n",
       "      <td>68.0</td>\n",
       "    </tr>\n",
       "    <tr>\n",
       "      <th>2</th>\n",
       "      <td>ID_009ACJQ9</td>\n",
       "      <td>2021-01-23 04:00:00+03:00</td>\n",
       "      <td>Nakawa</td>\n",
       "      <td>170.009773</td>\n",
       "      <td>191.153636</td>\n",
       "      <td>165.308636</td>\n",
       "      <td>191.471591</td>\n",
       "      <td>0.907833</td>\n",
       "      <td>20.616667</td>\n",
       "      <td>0.331740</td>\n",
       "      <td>32.609510</td>\n",
       "      <td>1191</td>\n",
       "      <td>5865</td>\n",
       "      <td>31</td>\n",
       "      <td>-11</td>\n",
       "      <td>4780</td>\n",
       "      <td>500</td>\n",
       "      <td>149.7</td>\n",
       "    </tr>\n",
       "    <tr>\n",
       "      <th>3</th>\n",
       "      <td>ID_00IGMAQ2</td>\n",
       "      <td>2019-12-04 09:00:00+03:00</td>\n",
       "      <td>USEmbassy</td>\n",
       "      <td>49.732821</td>\n",
       "      <td>61.512564</td>\n",
       "      <td>0.000000</td>\n",
       "      <td>0.000000</td>\n",
       "      <td>0.949667</td>\n",
       "      <td>21.216667</td>\n",
       "      <td>0.299255</td>\n",
       "      <td>32.592686</td>\n",
       "      <td>1199</td>\n",
       "      <td>4374</td>\n",
       "      <td>21</td>\n",
       "      <td>14</td>\n",
       "      <td>6834</td>\n",
       "      <td>130</td>\n",
       "      <td>54.0</td>\n",
       "    </tr>\n",
       "    <tr>\n",
       "      <th>4</th>\n",
       "      <td>ID_00P76VAQ</td>\n",
       "      <td>2019-10-01 01:00:00+03:00</td>\n",
       "      <td>USEmbassy</td>\n",
       "      <td>41.630455</td>\n",
       "      <td>51.044545</td>\n",
       "      <td>41.725000</td>\n",
       "      <td>51.141364</td>\n",
       "      <td>0.913833</td>\n",
       "      <td>18.908333</td>\n",
       "      <td>0.299255</td>\n",
       "      <td>32.592686</td>\n",
       "      <td>1199</td>\n",
       "      <td>4374</td>\n",
       "      <td>21</td>\n",
       "      <td>14</td>\n",
       "      <td>6834</td>\n",
       "      <td>130</td>\n",
       "      <td>39.0</td>\n",
       "    </tr>\n",
       "  </tbody>\n",
       "</table>\n",
       "</div>"
      ],
      "text/plain": [
       "            ID                 created_at       site       pm2_5        pm10  \\\n",
       "0  ID_0038MG0B  2020-04-23 17:00:00+03:00  USEmbassy    6.819048    7.313810   \n",
       "1  ID_008ASVDD  2020-02-23 19:00:00+03:00  USEmbassy   57.456047   67.883488   \n",
       "2  ID_009ACJQ9  2021-01-23 04:00:00+03:00     Nakawa  170.009773  191.153636   \n",
       "3  ID_00IGMAQ2  2019-12-04 09:00:00+03:00  USEmbassy   49.732821   61.512564   \n",
       "4  ID_00P76VAQ  2019-10-01 01:00:00+03:00  USEmbassy   41.630455   51.044545   \n",
       "\n",
       "     s2_pm2_5     s2_pm10  humidity       temp       lat       long  altitude  \\\n",
       "0    6.794048    7.838333  0.807417  22.383333  0.299255  32.592686      1199   \n",
       "1   55.643488   70.646977  0.712417  25.350000  0.299255  32.592686      1199   \n",
       "2  165.308636  191.471591  0.907833  20.616667  0.331740  32.609510      1191   \n",
       "3    0.000000    0.000000  0.949667  21.216667  0.299255  32.592686      1199   \n",
       "4   41.725000   51.141364  0.913833  18.908333  0.299255  32.592686      1199   \n",
       "\n",
       "   greenness  landform_90m  landform_270m  population  dist_major_road  \\\n",
       "0       4374            21             14        6834              130   \n",
       "1       4374            21             14        6834              130   \n",
       "2       5865            31            -11        4780              500   \n",
       "3       4374            21             14        6834              130   \n",
       "4       4374            21             14        6834              130   \n",
       "\n",
       "   ref_pm2_5  \n",
       "0       25.0  \n",
       "1       68.0  \n",
       "2      149.7  \n",
       "3       54.0  \n",
       "4       39.0  "
      ]
     },
     "execution_count": 12,
     "metadata": {},
     "output_type": "execute_result"
    }
   ],
   "source": [
    "train.head()"
   ]
  },
  {
   "cell_type": "code",
   "execution_count": 13,
   "metadata": {},
   "outputs": [
    {
     "name": "stdout",
     "output_type": "stream",
     "text": [
      "<class 'pandas.core.frame.DataFrame'>\n",
      "RangeIndex: 10932 entries, 0 to 10931\n",
      "Data columns (total 18 columns):\n",
      " #   Column           Non-Null Count  Dtype  \n",
      "---  ------           --------------  -----  \n",
      " 0   ID               10932 non-null  object \n",
      " 1   created_at       10932 non-null  object \n",
      " 2   site             10932 non-null  object \n",
      " 3   pm2_5            10932 non-null  float64\n",
      " 4   pm10             10932 non-null  float64\n",
      " 5   s2_pm2_5         10932 non-null  float64\n",
      " 6   s2_pm10          10932 non-null  float64\n",
      " 7   humidity         10926 non-null  float64\n",
      " 8   temp             10915 non-null  float64\n",
      " 9   lat              10932 non-null  float64\n",
      " 10  long             10932 non-null  float64\n",
      " 11  altitude         10932 non-null  int64  \n",
      " 12  greenness        10932 non-null  int64  \n",
      " 13  landform_90m     10932 non-null  int64  \n",
      " 14  landform_270m    10932 non-null  int64  \n",
      " 15  population       10932 non-null  int64  \n",
      " 16  dist_major_road  10932 non-null  int64  \n",
      " 17  ref_pm2_5        10932 non-null  float64\n",
      "dtypes: float64(9), int64(6), object(3)\n",
      "memory usage: 1.5+ MB\n"
     ]
    }
   ],
   "source": [
    "train.info()"
   ]
  },
  {
   "cell_type": "code",
   "execution_count": 14,
   "metadata": {},
   "outputs": [
    {
     "data": {
      "text/html": [
       "<div>\n",
       "<style scoped>\n",
       "    .dataframe tbody tr th:only-of-type {\n",
       "        vertical-align: middle;\n",
       "    }\n",
       "\n",
       "    .dataframe tbody tr th {\n",
       "        vertical-align: top;\n",
       "    }\n",
       "\n",
       "    .dataframe thead th {\n",
       "        text-align: right;\n",
       "    }\n",
       "</style>\n",
       "<table border=\"1\" class=\"dataframe\">\n",
       "  <thead>\n",
       "    <tr style=\"text-align: right;\">\n",
       "      <th></th>\n",
       "      <th>ID</th>\n",
       "      <th>created_at</th>\n",
       "      <th>site</th>\n",
       "      <th>pm2_5</th>\n",
       "      <th>pm10</th>\n",
       "      <th>s2_pm2_5</th>\n",
       "      <th>s2_pm10</th>\n",
       "      <th>humidity</th>\n",
       "      <th>temp</th>\n",
       "      <th>lat</th>\n",
       "      <th>long</th>\n",
       "      <th>altitude</th>\n",
       "      <th>greenness</th>\n",
       "      <th>landform_90m</th>\n",
       "      <th>landform_270m</th>\n",
       "      <th>population</th>\n",
       "      <th>dist_major_road</th>\n",
       "    </tr>\n",
       "  </thead>\n",
       "  <tbody>\n",
       "    <tr>\n",
       "      <th>0</th>\n",
       "      <td>ID_00OZLF7X</td>\n",
       "      <td>2020-03-13 07:00:00+03:00</td>\n",
       "      <td>USEmbassy</td>\n",
       "      <td>31.900455</td>\n",
       "      <td>35.515455</td>\n",
       "      <td>31.672273</td>\n",
       "      <td>37.051818</td>\n",
       "      <td>0.927167</td>\n",
       "      <td>21.175000</td>\n",
       "      <td>0.299255</td>\n",
       "      <td>32.592686</td>\n",
       "      <td>1199</td>\n",
       "      <td>4374</td>\n",
       "      <td>21</td>\n",
       "      <td>14</td>\n",
       "      <td>6834</td>\n",
       "      <td>130</td>\n",
       "    </tr>\n",
       "    <tr>\n",
       "      <th>1</th>\n",
       "      <td>ID_00ZI0D98</td>\n",
       "      <td>2020-08-08 10:00:00+03:00</td>\n",
       "      <td>Makerere</td>\n",
       "      <td>53.581818</td>\n",
       "      <td>66.603636</td>\n",
       "      <td>50.586364</td>\n",
       "      <td>64.651818</td>\n",
       "      <td>0.811583</td>\n",
       "      <td>22.350000</td>\n",
       "      <td>0.333501</td>\n",
       "      <td>32.568561</td>\n",
       "      <td>1233</td>\n",
       "      <td>6340</td>\n",
       "      <td>21</td>\n",
       "      <td>28</td>\n",
       "      <td>8518</td>\n",
       "      <td>475</td>\n",
       "    </tr>\n",
       "    <tr>\n",
       "      <th>2</th>\n",
       "      <td>ID_017GTLAU</td>\n",
       "      <td>2020-08-25 09:00:00+03:00</td>\n",
       "      <td>Makerere</td>\n",
       "      <td>62.377500</td>\n",
       "      <td>71.647500</td>\n",
       "      <td>59.023333</td>\n",
       "      <td>69.766667</td>\n",
       "      <td>0.902000</td>\n",
       "      <td>20.766667</td>\n",
       "      <td>0.333501</td>\n",
       "      <td>32.568561</td>\n",
       "      <td>1233</td>\n",
       "      <td>6340</td>\n",
       "      <td>21</td>\n",
       "      <td>28</td>\n",
       "      <td>8518</td>\n",
       "      <td>475</td>\n",
       "    </tr>\n",
       "    <tr>\n",
       "      <th>3</th>\n",
       "      <td>ID_01IBM7T2</td>\n",
       "      <td>2020-06-15 16:00:00+03:00</td>\n",
       "      <td>USEmbassy</td>\n",
       "      <td>33.310294</td>\n",
       "      <td>36.958824</td>\n",
       "      <td>33.060882</td>\n",
       "      <td>38.674412</td>\n",
       "      <td>0.643417</td>\n",
       "      <td>25.483333</td>\n",
       "      <td>0.299255</td>\n",
       "      <td>32.592686</td>\n",
       "      <td>1199</td>\n",
       "      <td>4374</td>\n",
       "      <td>21</td>\n",
       "      <td>14</td>\n",
       "      <td>6834</td>\n",
       "      <td>130</td>\n",
       "    </tr>\n",
       "    <tr>\n",
       "      <th>4</th>\n",
       "      <td>ID_01II27D4</td>\n",
       "      <td>2021-01-13 00:00:00+03:00</td>\n",
       "      <td>Nakawa</td>\n",
       "      <td>64.782045</td>\n",
       "      <td>75.247500</td>\n",
       "      <td>64.638182</td>\n",
       "      <td>77.108864</td>\n",
       "      <td>0.939667</td>\n",
       "      <td>20.133333</td>\n",
       "      <td>0.331740</td>\n",
       "      <td>32.609510</td>\n",
       "      <td>1191</td>\n",
       "      <td>5865</td>\n",
       "      <td>31</td>\n",
       "      <td>-11</td>\n",
       "      <td>4780</td>\n",
       "      <td>500</td>\n",
       "    </tr>\n",
       "  </tbody>\n",
       "</table>\n",
       "</div>"
      ],
      "text/plain": [
       "            ID                 created_at       site      pm2_5       pm10  \\\n",
       "0  ID_00OZLF7X  2020-03-13 07:00:00+03:00  USEmbassy  31.900455  35.515455   \n",
       "1  ID_00ZI0D98  2020-08-08 10:00:00+03:00   Makerere  53.581818  66.603636   \n",
       "2  ID_017GTLAU  2020-08-25 09:00:00+03:00   Makerere  62.377500  71.647500   \n",
       "3  ID_01IBM7T2  2020-06-15 16:00:00+03:00  USEmbassy  33.310294  36.958824   \n",
       "4  ID_01II27D4  2021-01-13 00:00:00+03:00     Nakawa  64.782045  75.247500   \n",
       "\n",
       "    s2_pm2_5    s2_pm10  humidity       temp       lat       long  altitude  \\\n",
       "0  31.672273  37.051818  0.927167  21.175000  0.299255  32.592686      1199   \n",
       "1  50.586364  64.651818  0.811583  22.350000  0.333501  32.568561      1233   \n",
       "2  59.023333  69.766667  0.902000  20.766667  0.333501  32.568561      1233   \n",
       "3  33.060882  38.674412  0.643417  25.483333  0.299255  32.592686      1199   \n",
       "4  64.638182  77.108864  0.939667  20.133333  0.331740  32.609510      1191   \n",
       "\n",
       "   greenness  landform_90m  landform_270m  population  dist_major_road  \n",
       "0       4374            21             14        6834              130  \n",
       "1       6340            21             28        8518              475  \n",
       "2       6340            21             28        8518              475  \n",
       "3       4374            21             14        6834              130  \n",
       "4       5865            31            -11        4780              500  "
      ]
     },
     "execution_count": 14,
     "metadata": {},
     "output_type": "execute_result"
    }
   ],
   "source": [
    "test.head()"
   ]
  },
  {
   "cell_type": "code",
   "execution_count": 15,
   "metadata": {},
   "outputs": [
    {
     "name": "stdout",
     "output_type": "stream",
     "text": [
      "<class 'pandas.core.frame.DataFrame'>\n",
      "RangeIndex: 2733 entries, 0 to 2732\n",
      "Data columns (total 17 columns):\n",
      " #   Column           Non-Null Count  Dtype  \n",
      "---  ------           --------------  -----  \n",
      " 0   ID               2733 non-null   object \n",
      " 1   created_at       2733 non-null   object \n",
      " 2   site             2733 non-null   object \n",
      " 3   pm2_5            2733 non-null   float64\n",
      " 4   pm10             2733 non-null   float64\n",
      " 5   s2_pm2_5         2733 non-null   float64\n",
      " 6   s2_pm10          2733 non-null   float64\n",
      " 7   humidity         2732 non-null   float64\n",
      " 8   temp             2729 non-null   float64\n",
      " 9   lat              2733 non-null   float64\n",
      " 10  long             2733 non-null   float64\n",
      " 11  altitude         2733 non-null   int64  \n",
      " 12  greenness        2733 non-null   int64  \n",
      " 13  landform_90m     2733 non-null   int64  \n",
      " 14  landform_270m    2733 non-null   int64  \n",
      " 15  population       2733 non-null   int64  \n",
      " 16  dist_major_road  2733 non-null   int64  \n",
      "dtypes: float64(8), int64(6), object(3)\n",
      "memory usage: 363.1+ KB\n"
     ]
    }
   ],
   "source": [
    "test.info()"
   ]
  },
  {
   "cell_type": "code",
   "execution_count": 16,
   "metadata": {},
   "outputs": [
    {
     "data": {
      "text/html": [
       "<div>\n",
       "<style scoped>\n",
       "    .dataframe tbody tr th:only-of-type {\n",
       "        vertical-align: middle;\n",
       "    }\n",
       "\n",
       "    .dataframe tbody tr th {\n",
       "        vertical-align: top;\n",
       "    }\n",
       "\n",
       "    .dataframe thead th {\n",
       "        text-align: right;\n",
       "    }\n",
       "</style>\n",
       "<table border=\"1\" class=\"dataframe\">\n",
       "  <thead>\n",
       "    <tr style=\"text-align: right;\">\n",
       "      <th></th>\n",
       "      <th>ID</th>\n",
       "      <th>ref_pm2_5</th>\n",
       "    </tr>\n",
       "  </thead>\n",
       "  <tbody>\n",
       "    <tr>\n",
       "      <th>0</th>\n",
       "      <td>ID_00OZLF7X</td>\n",
       "      <td>NaN</td>\n",
       "    </tr>\n",
       "    <tr>\n",
       "      <th>1</th>\n",
       "      <td>ID_00ZI0D98</td>\n",
       "      <td>NaN</td>\n",
       "    </tr>\n",
       "    <tr>\n",
       "      <th>2</th>\n",
       "      <td>ID_017GTLAU</td>\n",
       "      <td>NaN</td>\n",
       "    </tr>\n",
       "    <tr>\n",
       "      <th>3</th>\n",
       "      <td>ID_01IBM7T2</td>\n",
       "      <td>NaN</td>\n",
       "    </tr>\n",
       "    <tr>\n",
       "      <th>4</th>\n",
       "      <td>ID_01II27D4</td>\n",
       "      <td>NaN</td>\n",
       "    </tr>\n",
       "  </tbody>\n",
       "</table>\n",
       "</div>"
      ],
      "text/plain": [
       "            ID  ref_pm2_5\n",
       "0  ID_00OZLF7X        NaN\n",
       "1  ID_00ZI0D98        NaN\n",
       "2  ID_017GTLAU        NaN\n",
       "3  ID_01IBM7T2        NaN\n",
       "4  ID_01II27D4        NaN"
      ]
     },
     "execution_count": 16,
     "metadata": {},
     "output_type": "execute_result"
    }
   ],
   "source": [
    "subm.head()"
   ]
  },
  {
   "cell_type": "markdown",
   "metadata": {},
   "source": [
    "**const baseline**"
   ]
  },
  {
   "cell_type": "code",
   "execution_count": 18,
   "metadata": {},
   "outputs": [],
   "source": [
    "sub = pd.DataFrame()\n",
    "sub['ID'] = test.iloc[:,0]\n",
    "sub['ref_pm2_5'] = train['ref_pm2_5'].mean()\n",
    "sub.to_csv('const.csv', index=False)"
   ]
  },
  {
   "cell_type": "markdown",
   "metadata": {},
   "source": [
    "Объединим данные и запомним кол-во записей в train"
   ]
  },
  {
   "cell_type": "code",
   "execution_count": 19,
   "metadata": {},
   "outputs": [],
   "source": [
    "idx_train = train.shape[0] \n",
    "\n",
    "all_data = pd.concat((train, test)).reset_index(drop=True)"
   ]
  },
  {
   "cell_type": "markdown",
   "metadata": {},
   "source": [
    "Для бейзлайна возьмем только числовые признаки. Заполним пропуски средним"
   ]
  },
  {
   "cell_type": "code",
   "execution_count": 27,
   "metadata": {},
   "outputs": [],
   "source": [
    "num_cols = all_data.drop(['ref_pm2_5'], axis=1).select_dtypes(exclude=['object']).columns"
   ]
  },
  {
   "cell_type": "code",
   "execution_count": 29,
   "metadata": {},
   "outputs": [
    {
     "data": {
      "text/plain": [
       "pm2_5              0\n",
       "pm10               0\n",
       "s2_pm2_5           0\n",
       "s2_pm10            0\n",
       "humidity           0\n",
       "temp               0\n",
       "lat                0\n",
       "long               0\n",
       "altitude           0\n",
       "greenness          0\n",
       "landform_90m       0\n",
       "landform_270m      0\n",
       "population         0\n",
       "dist_major_road    0\n",
       "dtype: int64"
      ]
     },
     "execution_count": 29,
     "metadata": {},
     "output_type": "execute_result"
    }
   ],
   "source": [
    "for col in num_cols:\n",
    "    all_data[col] = all_data[col].fillna(all_data[col].mean())\n",
    "all_data[num_cols].isna().sum()    "
   ]
  },
  {
   "cell_type": "code",
   "execution_count": 34,
   "metadata": {},
   "outputs": [],
   "source": [
    "train_df = all_data[:idx_train]\n",
    "test_df = all_data[idx_train:]\n",
    "X = train_df[num_cols]\n",
    "y = train_df.ref_pm2_5\n",
    "\n",

    "X_train, X_test, y_train, y_test = train_test_split(X,y,test_size=0.3, random_state=42)\n"
   ]
  },
  {
   "cell_type": "code",
   "execution_count": 38,
   "metadata": {},
   "outputs": [
    {
     "name": "stdout",
     "output_type": "stream",
     "text": [
      "R^2 score on the X_test is: 287.51055543670276\n"
     ]
    }
   ],
   "source": [
    "model = Ridge(random_state=42)\n",
    "model.fit(X_train, y_train)\n",
    "\n",

    "y_pred = model.predict(X_test)\n",
    "\n",

    "print(f'R^2 score on the X_test is: {mean_squared_error(y_test, y_pred)}')"
   ]
  },
  {
   "cell_type": "code",
   "execution_count": 43,
   "metadata": {},
   "outputs": [
    {
     "name": "stdout",
     "output_type": "stream",
     "text": [
      "R^2 score on the X_test is: 227.3128847301829\n"
     ]
    }
   ],
   "source": [
    "model = RandomForestRegressor(random_state=42, n_jobs=-1)\n",
    "model.fit(X_train, y_train)\n",
    "\n",
    "y_pred = model.predict(X_test)\n",
    "\n",
    "print(f'R^2 score on the X_test is: {mean_squared_error(y_test, y_pred)}')"
   ]
  },
  {
   "cell_type": "code",
   "execution_count": 44,
   "metadata": {},
   "outputs": [],
   "source": [
    "test_df = test_df[num_cols]\n",
    "preds = model.predict(test_df)"
   ]
  },
  {
   "cell_type": "code",
   "execution_count": 45,
   "metadata": {},
   "outputs": [],
   "source": [
    "sub = pd.DataFrame()\n",
    "sub['ID'] = test.iloc[:,0]\n",
    "sub['ref_pm2_5'] = preds\n",
    "sub.to_csv('rf.csv', index=False)"
   ]
  }
 ],
 "metadata": {
  "kernelspec": {
   "display_name": "Python 3",
   "language": "python",
   "name": "python3"
  },
  "language_info": {
   "codemirror_mode": {
    "name": "ipython",
    "version": 3
   },
   "file_extension": ".py",
   "mimetype": "text/x-python",
   "name": "python",
   "nbconvert_exporter": "python",
   "pygments_lexer": "ipython3",
   "version": "3.7.6"
  }
 },
 "nbformat": 4,
 "nbformat_minor": 4
}
